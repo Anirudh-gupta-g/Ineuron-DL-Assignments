{
 "cells": [
  {
   "cell_type": "markdown",
   "id": "e6e1c6b2",
   "metadata": {},
   "source": [
    "**1. Is it OK to initialize all the weights to the same value as long as that value is selected randomly using He initialization?**\n",
    "\n",
    "Ans:\n",
    "\n",
    "Is it OK to initialize the bias terms to 0?\n",
    "Name three advantages of the SELU activation function over ReLU.\n",
    "In which cases would you want to use each of the following activation functions: SELU, leaky\n",
    "ReLU (and its variants), ReLU, tanh, logistic, and softmax? 5. What may happen if you set the momentum hyperparameter too close to 1 (e.g., 0.99999) when using an SGD optimizer? 6. Name three ways you can produce a sparse model. 7. Does dropout slow down training? Does it slow down inference (i.e., making predictions on new instances)? What about MC Dropout? 8. Practice training a deep neural network on the CIFAR10 image dataset: a. Build a DNN with 20 hidden layers of 100 neurons each (that’s too many, but it’s the point of this exercise). Use He initialization and the ELU activation function. b. Using Nadam optimization and early stopping, train the network on the CIFAR10 dataset. You can load it with keras.datasets.cifar10.load_​data(). The dataset is composed of 60,000 32 × 32–pixel color images (50,000 for training, 10,000 for testing) with 10 classes, so you’ll need a softmax output layer with 10 neurons. Remember to search for the right learning rate each time you change the model’s architecture or hyperparameters. c. Now try adding Batch Normalization and compare the learning curves: Is it converging faster than before? Does it produce a better model? How does it affect training speed? d. Try replacing Batch Normalization with SELU, and make the necessary adjustements to ensure the network self-normalizes (i.e., standardize the input features, use LeCun normal initialization, make sure the DNN contains only a sequence of dense layers, etc.). e. Try regularizing the model with alpha dropout. Then, without retraining your model, see if you can achieve better accuracy using MC Dropout.\n",
    "\n",
    "**2. Is it OK to initialize the bias terms to 0?**\n",
    "\n",
    "Ans: Yes, it is generally acceptable to initialize the bias terms to 0. However, it is important to note that other values may result in better performance, depending on the type of model and data.\n",
    "\n",
    "**3. Name three advantages of the SELU activation function over ReLU.**\n",
    "\n",
    "Ans:\n",
    "\n",
    "SELU is self-normalizing, meaning it does not suffer from the \"dying ReLU\" problem.\n",
    "\n",
    "SELU has a higher mean and variance than ReLU, which can help to reduce internal covariate shift and can lead to faster training.\n",
    "\n",
    "SELU is more robust to outliers and can maintain better performance under noisy data.\n",
    "\n",
    "**4. In which cases would you want to use each of the following activation functions: SELU, leaky ReLU (and its variants), ReLU, tanh, logistic, and softmax?**\n",
    "\n",
    "Ans:\n",
    "\n",
    "SELU: When training deep neural networks and when dealing with noisy data or outliers.\n",
    "\n",
    "Leaky ReLU (and its variants): When training deep neural networks and when dealing with data that is not linearly separable.\n",
    "\n",
    "ReLU: When training deep neural networks and when dealing with data that is linearly separable.\n",
    "\n",
    "Tanh: When training shallow neural networks and when dealing with data that is non-linear.\n",
    "\n",
    "Logistic: When training shallow neural networks and when dealing with binary classification tasks.\n",
    "\n",
    "Softmax: When training shallow neural networks and when dealing with multi-class classification tasks.\n",
    "\n",
    "**5. What may happen if you set the momentum hyperparameter too close to 1 (e.g., 0.99999) when using an SGD optimizer?**\n",
    "\n",
    "Ans: If the momentum hyperparameter is set too close to 1, the SGD optimizer may cause oscillations in the optimization trajectory and can lead to slow convergence or even divergence of the optimization process. This is because the SGD optimizer will attempt to move too quickly in the direction of the previous update, resulting in overshooting the optimum.\n",
    "\n",
    "**6. Name three ways you can produce a sparse model.**\n",
    "\n",
    "Ans:\n",
    "\n",
    "Use L1 regularization, which adds a penalty on the sum of the absolute values of the weights in the model. This encourages the model to reduce the number of non-zero weights, leading to a sparse model.\n",
    "\n",
    "Use feature selection techniques such as forward selection, backward selection, or recursive feature elimination to select only the most relevant features in the model. This can reduce the number of inputs, leading to a sparse model.\n",
    "\n",
    "Use pruning techniques such as magnitude pruning or low-rank factorization to remove redundant weights from the model. This can lead to a more efficient and sparse model.\n",
    "\n",
    "**7. Does dropout slow down training? Does it slow down inference (i.e., making predictions on new instances)? What about MC Dropout?**\n",
    "\n",
    "Ans: Dropout does slow down training, as it requires more iterations for the model to converge. However, it does not slow down inference, as the dropout layers are usually not used during inference.\n",
    "\n",
    "MC Dropout does slow down inference, as it requires multiple forward passes and additional computations to sample multiple weights from the dropout layers.\n",
    "\n",
    "**8. Practice training a deep neural network on the CIFAR10 image dataset:**\n",
    "\n",
    "**a. Build a DNN with 20 hidden layers of 100 neurons each (that’s too many, but it’s the point of this exercise). Use He initialization and the ELU activation function.**\n",
    "\n",
    "**b. Using Nadam optimization and early stopping, train the network on the CIFAR10 dataset. You can load it with keras.datasets.cifar10.load_​data(). The dataset is composed of 60,000 32 × 32–pixel color images (50,000 for training, 10,000 for testing) with 10 classes, so you’ll need a softmax output layer with 10 neurons.Remember to search for the right learning rate each time you change the model’s architecture or hyperparameters.****\n",
    "\n",
    "**c. Now try adding Batch Normalization and compare the learning curves: Is it converging faster than before? Does it produce a better model? How does it affect training speed?**\n",
    "\n",
    "**d. Try replacing Batch Normalization with SELU, and make the necessary adjustements to ensure the network self-normalizes (i.e., standardize the input features, use LeCun normal initialization, make sure the DNN contains only a sequence of dense layers, etc.).**\n",
    "\n",
    "**e. Try regularizing the model with alpha dropout. Then, without retraining your model, see if you can achieve better accuracy using MC Dropout.**\n",
    "\n",
    "Ans:\n",
    "\n",
    "**a. Build a DNN with 20 hidden layers of 100 neurons each (that’s too many, but it’s the point of this exercise). Use He initialization and the ELU activation function.**"
   ]
  },
  {
   "cell_type": "code",
   "execution_count": 6,
   "id": "a5fcae93",
   "metadata": {},
   "outputs": [
    {
     "name": "stdout",
     "output_type": "stream",
     "text": [
      "Collecting tensorflow\n",
      "  Downloading tensorflow-2.12.0-cp39-cp39-win_amd64.whl (1.9 kB)\n",
      "Collecting tensorflow-intel==2.12.0\n",
      "  Downloading tensorflow_intel-2.12.0-cp39-cp39-win_amd64.whl (272.8 MB)\n",
      "     ------------------------------------ 272.8/272.8 MB 587.2 kB/s eta 0:00:00\n",
      "Collecting keras<2.13,>=2.12.0\n",
      "  Downloading keras-2.12.0-py2.py3-none-any.whl (1.7 MB)\n",
      "     ---------------------------------------- 1.7/1.7 MB 795.3 kB/s eta 0:00:00\n",
      "Collecting google-pasta>=0.1.1\n",
      "  Downloading google_pasta-0.2.0-py3-none-any.whl (57 kB)\n",
      "     -------------------------------------- 57.5/57.5 kB 377.8 kB/s eta 0:00:00\n",
      "Requirement already satisfied: typing-extensions>=3.6.6 in c:\\users\\aniru\\anaconda3\\lib\\site-packages (from tensorflow-intel==2.12.0->tensorflow) (4.3.0)\n",
      "Collecting astunparse>=1.6.0\n",
      "  Downloading astunparse-1.6.3-py2.py3-none-any.whl (12 kB)\n",
      "Requirement already satisfied: wrapt<1.15,>=1.11.0 in c:\\users\\aniru\\anaconda3\\lib\\site-packages (from tensorflow-intel==2.12.0->tensorflow) (1.14.1)\n",
      "Requirement already satisfied: setuptools in c:\\users\\aniru\\anaconda3\\lib\\site-packages (from tensorflow-intel==2.12.0->tensorflow) (60.10.0)\n",
      "Collecting absl-py>=1.0.0\n",
      "  Downloading absl_py-1.4.0-py3-none-any.whl (126 kB)\n",
      "     ------------------------------------ 126.5/126.5 kB 297.5 kB/s eta 0:00:00\n",
      "Requirement already satisfied: packaging in c:\\users\\aniru\\anaconda3\\lib\\site-packages (from tensorflow-intel==2.12.0->tensorflow) (21.3)\n",
      "Collecting tensorflow-estimator<2.13,>=2.12.0\n",
      "  Downloading tensorflow_estimator-2.12.0-py2.py3-none-any.whl (440 kB)\n",
      "     ------------------------------------ 440.7/440.7 kB 834.2 kB/s eta 0:00:00\n",
      "Collecting gast<=0.4.0,>=0.2.1\n",
      "  Downloading gast-0.4.0-py3-none-any.whl (9.8 kB)\n",
      "Collecting libclang>=13.0.0\n",
      "  Downloading libclang-16.0.0-py2.py3-none-win_amd64.whl (24.4 MB)\n",
      "     ---------------------------------------- 24.4/24.4 MB 1.3 MB/s eta 0:00:00\n",
      "Collecting tensorboard<2.13,>=2.12\n",
      "  Downloading tensorboard-2.12.3-py3-none-any.whl (5.6 MB)\n",
      "     ---------------------------------------- 5.6/5.6 MB 1.1 MB/s eta 0:00:00\n",
      "Collecting flatbuffers>=2.0\n",
      "  Downloading flatbuffers-23.5.26-py2.py3-none-any.whl (26 kB)\n",
      "Requirement already satisfied: six>=1.12.0 in c:\\users\\aniru\\anaconda3\\lib\\site-packages (from tensorflow-intel==2.12.0->tensorflow) (1.16.0)\n",
      "Collecting protobuf!=4.21.0,!=4.21.1,!=4.21.2,!=4.21.3,!=4.21.4,!=4.21.5,<5.0.0dev,>=3.20.3\n",
      "  Downloading protobuf-4.23.3-cp39-cp39-win_amd64.whl (422 kB)\n",
      "     ------------------------------------ 422.5/422.5 kB 849.9 kB/s eta 0:00:00\n",
      "Collecting tensorflow-io-gcs-filesystem>=0.23.1\n",
      "  Downloading tensorflow_io_gcs_filesystem-0.31.0-cp39-cp39-win_amd64.whl (1.5 MB)\n",
      "     ---------------------------------------- 1.5/1.5 MB 660.4 kB/s eta 0:00:00\n",
      "Collecting grpcio<2.0,>=1.24.3\n",
      "  Downloading grpcio-1.56.0-cp39-cp39-win_amd64.whl (4.2 MB)\n",
      "     ---------------------------------------- 4.2/4.2 MB 772.1 kB/s eta 0:00:00\n",
      "Requirement already satisfied: h5py>=2.9.0 in c:\\users\\aniru\\anaconda3\\lib\\site-packages (from tensorflow-intel==2.12.0->tensorflow) (3.7.0)\n",
      "Collecting opt-einsum>=2.3.2\n",
      "  Downloading opt_einsum-3.3.0-py3-none-any.whl (65 kB)\n",
      "     ---------------------------------------- 65.5/65.5 kB 1.2 MB/s eta 0:00:00\n",
      "Collecting termcolor>=1.1.0\n",
      "  Downloading termcolor-2.3.0-py3-none-any.whl (6.9 kB)\n",
      "Collecting numpy<1.24,>=1.22\n",
      "  Downloading numpy-1.23.5-cp39-cp39-win_amd64.whl (14.7 MB)\n",
      "     ---------------------------------------- 14.7/14.7 MB 1.6 MB/s eta 0:00:00\n",
      "Collecting jax>=0.3.15\n",
      "  Downloading jax-0.4.13.tar.gz (1.3 MB)\n",
      "     ---------------------------------------- 1.3/1.3 MB 599.5 kB/s eta 0:00:00\n",
      "  Installing build dependencies: started\n",
      "  Installing build dependencies: finished with status 'done'\n",
      "  Getting requirements to build wheel: started\n",
      "  Getting requirements to build wheel: finished with status 'done'\n",
      "  Preparing metadata (pyproject.toml): started\n",
      "  Preparing metadata (pyproject.toml): finished with status 'done'\n",
      "Requirement already satisfied: wheel<1.0,>=0.23.0 in c:\\users\\aniru\\anaconda3\\lib\\site-packages (from astunparse>=1.6.0->tensorflow-intel==2.12.0->tensorflow) (0.37.1)\n",
      "Requirement already satisfied: scipy>=1.7 in c:\\users\\aniru\\anaconda3\\lib\\site-packages (from jax>=0.3.15->tensorflow-intel==2.12.0->tensorflow) (1.9.1)\n",
      "Requirement already satisfied: importlib-metadata>=4.6 in c:\\users\\aniru\\anaconda3\\lib\\site-packages (from jax>=0.3.15->tensorflow-intel==2.12.0->tensorflow) (4.11.3)\n",
      "Collecting ml-dtypes>=0.1.0\n",
      "  Downloading ml_dtypes-0.2.0-cp39-cp39-win_amd64.whl (938 kB)\n",
      "     ------------------------------------ 938.4/938.4 kB 715.6 kB/s eta 0:00:00\n",
      "Requirement already satisfied: markdown>=2.6.8 in c:\\users\\aniru\\anaconda3\\lib\\site-packages (from tensorboard<2.13,>=2.12->tensorflow-intel==2.12.0->tensorflow) (3.3.4)\n",
      "Requirement already satisfied: requests<3,>=2.21.0 in c:\\users\\aniru\\anaconda3\\lib\\site-packages (from tensorboard<2.13,>=2.12->tensorflow-intel==2.12.0->tensorflow) (2.28.1)\n",
      "Collecting google-auth-oauthlib<1.1,>=0.5\n",
      "  Downloading google_auth_oauthlib-1.0.0-py2.py3-none-any.whl (18 kB)\n",
      "Collecting google-auth<3,>=1.6.3\n",
      "  Downloading google_auth-2.21.0-py2.py3-none-any.whl (182 kB)\n",
      "     ------------------------------------ 182.1/182.1 kB 203.6 kB/s eta 0:00:00\n",
      "Requirement already satisfied: werkzeug>=1.0.1 in c:\\users\\aniru\\anaconda3\\lib\\site-packages (from tensorboard<2.13,>=2.12->tensorflow-intel==2.12.0->tensorflow) (2.0.3)\n",
      "Collecting tensorboard-data-server<0.8.0,>=0.7.0\n",
      "  Downloading tensorboard_data_server-0.7.1-py3-none-any.whl (2.4 kB)\n",
      "Requirement already satisfied: pyparsing!=3.0.5,>=2.0.2 in c:\\users\\aniru\\anaconda3\\lib\\site-packages (from packaging->tensorflow-intel==2.12.0->tensorflow) (3.0.9)\n",
      "Requirement already satisfied: pyasn1-modules>=0.2.1 in c:\\users\\aniru\\anaconda3\\lib\\site-packages (from google-auth<3,>=1.6.3->tensorboard<2.13,>=2.12->tensorflow-intel==2.12.0->tensorflow) (0.2.8)\n",
      "Requirement already satisfied: urllib3<2.0 in c:\\users\\aniru\\anaconda3\\lib\\site-packages (from google-auth<3,>=1.6.3->tensorboard<2.13,>=2.12->tensorflow-intel==2.12.0->tensorflow) (1.26.11)\n",
      "Collecting cachetools<6.0,>=2.0.0\n",
      "  Downloading cachetools-5.3.1-py3-none-any.whl (9.3 kB)\n",
      "Collecting rsa<5,>=3.1.4\n",
      "  Downloading rsa-4.9-py3-none-any.whl (34 kB)\n",
      "Collecting requests-oauthlib>=0.7.0\n",
      "  Downloading requests_oauthlib-1.3.1-py2.py3-none-any.whl (23 kB)\n",
      "Requirement already satisfied: zipp>=0.5 in c:\\users\\aniru\\anaconda3\\lib\\site-packages (from importlib-metadata>=4.6->jax>=0.3.15->tensorflow-intel==2.12.0->tensorflow) (3.8.0)\n",
      "Requirement already satisfied: charset-normalizer<3,>=2 in c:\\users\\aniru\\anaconda3\\lib\\site-packages (from requests<3,>=2.21.0->tensorboard<2.13,>=2.12->tensorflow-intel==2.12.0->tensorflow) (2.0.4)\n",
      "Requirement already satisfied: idna<4,>=2.5 in c:\\users\\aniru\\anaconda3\\lib\\site-packages (from requests<3,>=2.21.0->tensorboard<2.13,>=2.12->tensorflow-intel==2.12.0->tensorflow) (3.3)\n",
      "Requirement already satisfied: certifi>=2017.4.17 in c:\\users\\aniru\\anaconda3\\lib\\site-packages (from requests<3,>=2.21.0->tensorboard<2.13,>=2.12->tensorflow-intel==2.12.0->tensorflow) (2022.9.14)\n",
      "Requirement already satisfied: pyasn1<0.5.0,>=0.4.6 in c:\\users\\aniru\\anaconda3\\lib\\site-packages (from pyasn1-modules>=0.2.1->google-auth<3,>=1.6.3->tensorboard<2.13,>=2.12->tensorflow-intel==2.12.0->tensorflow) (0.4.8)\n",
      "Collecting oauthlib>=3.0.0\n",
      "  Downloading oauthlib-3.2.2-py3-none-any.whl (151 kB)\n",
      "     ------------------------------------ 151.7/151.7 kB 900.9 kB/s eta 0:00:00\n",
      "Building wheels for collected packages: jax\n",
      "  Building wheel for jax (pyproject.toml): started\n",
      "  Building wheel for jax (pyproject.toml): finished with status 'done'\n",
      "  Created wheel for jax: filename=jax-0.4.13-py3-none-any.whl size=1518835 sha256=1ee2ebb1e28a2043e36ac9165f4474367b5e8f767412fc52cca8fe87513c72cf\n",
      "  Stored in directory: c:\\users\\aniru\\appdata\\local\\pip\\cache\\wheels\\ac\\c9\\8c\\f4c803770fde18dcdd82e84675eb6add1c0d1035f7214a96fa\n",
      "Successfully built jax\n",
      "Installing collected packages: libclang, flatbuffers, termcolor, tensorflow-io-gcs-filesystem, tensorflow-estimator, tensorboard-data-server, rsa, protobuf, oauthlib, numpy, keras, grpcio, google-pasta, gast, cachetools, astunparse, absl-py, requests-oauthlib, opt-einsum, ml-dtypes, google-auth, jax, google-auth-oauthlib, tensorboard, tensorflow-intel, tensorflow\n",
      "  Attempting uninstall: numpy\n",
      "    Found existing installation: numpy 1.21.5\n",
      "    Uninstalling numpy-1.21.5:\n",
      "      Successfully uninstalled numpy-1.21.5\n"
     ]
    },
    {
     "name": "stderr",
     "output_type": "stream",
     "text": [
      "WARNING: Retrying (Retry(total=4, connect=None, read=None, redirect=None, status=None)) after connection broken by 'ReadTimeoutError(\"HTTPSConnectionPool(host='pypi.org', port=443): Read timed out. (read timeout=15)\")': /simple/keras/\n",
      "ERROR: Could not install packages due to an OSError: [WinError 5] Access is denied: 'C:\\\\Users\\\\aniru\\\\anaconda3\\\\Lib\\\\site-packages\\\\~umpy\\\\core\\\\_multiarray_tests.cp39-win_amd64.pyd'\n",
      "Consider using the `--user` option or check the permissions.\n",
      "\n"
     ]
    }
   ],
   "source": [
    "!pip install tensorflow"
   ]
  },
  {
   "cell_type": "code",
   "execution_count": 8,
   "id": "7ff00a68",
   "metadata": {},
   "outputs": [
    {
     "name": "stdout",
     "output_type": "stream",
     "text": [
      "Collecting tensorflow\n",
      "  Using cached tensorflow-2.12.0-cp39-cp39-win_amd64.whl (1.9 kB)\n",
      "Collecting tensorflow-intel==2.12.0\n",
      "  Using cached tensorflow_intel-2.12.0-cp39-cp39-win_amd64.whl (272.8 MB)\n",
      "Requirement already satisfied: numpy<1.24,>=1.22 in c:\\users\\aniru\\anaconda3\\lib\\site-packages (from tensorflow-intel==2.12.0->tensorflow) (1.23.5)\n",
      "Requirement already satisfied: packaging in c:\\users\\aniru\\anaconda3\\lib\\site-packages (from tensorflow-intel==2.12.0->tensorflow) (21.3)\n",
      "Requirement already satisfied: termcolor>=1.1.0 in c:\\users\\aniru\\anaconda3\\lib\\site-packages (from tensorflow-intel==2.12.0->tensorflow) (2.3.0)\n",
      "Collecting gast<=0.4.0,>=0.2.1\n",
      "  Using cached gast-0.4.0-py3-none-any.whl (9.8 kB)\n",
      "Collecting tensorboard<2.13,>=2.12\n",
      "  Using cached tensorboard-2.12.3-py3-none-any.whl (5.6 MB)\n",
      "Collecting opt-einsum>=2.3.2\n",
      "  Using cached opt_einsum-3.3.0-py3-none-any.whl (65 kB)\n",
      "Collecting keras<2.13,>=2.12.0\n",
      "  Using cached keras-2.12.0-py2.py3-none-any.whl (1.7 MB)\n",
      "Requirement already satisfied: tensorflow-io-gcs-filesystem>=0.23.1 in c:\\users\\aniru\\anaconda3\\lib\\site-packages (from tensorflow-intel==2.12.0->tensorflow) (0.31.0)\n",
      "Collecting grpcio<2.0,>=1.24.3\n",
      "  Using cached grpcio-1.56.0-cp39-cp39-win_amd64.whl (4.2 MB)\n",
      "Requirement already satisfied: h5py>=2.9.0 in c:\\users\\aniru\\anaconda3\\lib\\site-packages (from tensorflow-intel==2.12.0->tensorflow) (3.7.0)\n",
      "Collecting jax>=0.3.15\n",
      "  Using cached jax-0.4.13-py3-none-any.whl\n",
      "Requirement already satisfied: libclang>=13.0.0 in c:\\users\\aniru\\anaconda3\\lib\\site-packages (from tensorflow-intel==2.12.0->tensorflow) (16.0.0)\n",
      "Requirement already satisfied: protobuf!=4.21.0,!=4.21.1,!=4.21.2,!=4.21.3,!=4.21.4,!=4.21.5,<5.0.0dev,>=3.20.3 in c:\\users\\aniru\\anaconda3\\lib\\site-packages (from tensorflow-intel==2.12.0->tensorflow) (4.23.3)\n",
      "Requirement already satisfied: setuptools in c:\\users\\aniru\\anaconda3\\lib\\site-packages (from tensorflow-intel==2.12.0->tensorflow) (60.10.0)\n",
      "Requirement already satisfied: typing-extensions>=3.6.6 in c:\\users\\aniru\\anaconda3\\lib\\site-packages (from tensorflow-intel==2.12.0->tensorflow) (4.3.0)\n",
      "Requirement already satisfied: tensorflow-estimator<2.13,>=2.12.0 in c:\\users\\aniru\\anaconda3\\lib\\site-packages (from tensorflow-intel==2.12.0->tensorflow) (2.12.0)\n",
      "Collecting google-pasta>=0.1.1\n",
      "  Using cached google_pasta-0.2.0-py3-none-any.whl (57 kB)\n",
      "Requirement already satisfied: flatbuffers>=2.0 in c:\\users\\aniru\\anaconda3\\lib\\site-packages (from tensorflow-intel==2.12.0->tensorflow) (23.5.26)\n",
      "Requirement already satisfied: wrapt<1.15,>=1.11.0 in c:\\users\\aniru\\anaconda3\\lib\\site-packages (from tensorflow-intel==2.12.0->tensorflow) (1.14.1)\n",
      "Collecting absl-py>=1.0.0\n",
      "  Using cached absl_py-1.4.0-py3-none-any.whl (126 kB)\n",
      "Requirement already satisfied: six>=1.12.0 in c:\\users\\aniru\\anaconda3\\lib\\site-packages (from tensorflow-intel==2.12.0->tensorflow) (1.16.0)\n",
      "Collecting astunparse>=1.6.0\n",
      "  Using cached astunparse-1.6.3-py2.py3-none-any.whl (12 kB)\n",
      "Requirement already satisfied: wheel<1.0,>=0.23.0 in c:\\users\\aniru\\anaconda3\\lib\\site-packages (from astunparse>=1.6.0->tensorflow-intel==2.12.0->tensorflow) (0.37.1)\n",
      "Requirement already satisfied: importlib-metadata>=4.6 in c:\\users\\aniru\\anaconda3\\lib\\site-packages (from jax>=0.3.15->tensorflow-intel==2.12.0->tensorflow) (4.11.3)\n",
      "Requirement already satisfied: scipy>=1.7 in c:\\users\\aniru\\anaconda3\\lib\\site-packages (from jax>=0.3.15->tensorflow-intel==2.12.0->tensorflow) (1.9.1)\n",
      "Collecting ml-dtypes>=0.1.0\n",
      "  Using cached ml_dtypes-0.2.0-cp39-cp39-win_amd64.whl (938 kB)\n",
      "Requirement already satisfied: tensorboard-data-server<0.8.0,>=0.7.0 in c:\\users\\aniru\\anaconda3\\lib\\site-packages (from tensorboard<2.13,>=2.12->tensorflow-intel==2.12.0->tensorflow) (0.7.1)\n",
      "Collecting google-auth-oauthlib<1.1,>=0.5\n",
      "  Using cached google_auth_oauthlib-1.0.0-py2.py3-none-any.whl (18 kB)\n",
      "Collecting google-auth<3,>=1.6.3\n",
      "  Using cached google_auth-2.21.0-py2.py3-none-any.whl (182 kB)\n",
      "Requirement already satisfied: requests<3,>=2.21.0 in c:\\users\\aniru\\anaconda3\\lib\\site-packages (from tensorboard<2.13,>=2.12->tensorflow-intel==2.12.0->tensorflow) (2.28.1)\n",
      "Requirement already satisfied: werkzeug>=1.0.1 in c:\\users\\aniru\\anaconda3\\lib\\site-packages (from tensorboard<2.13,>=2.12->tensorflow-intel==2.12.0->tensorflow) (2.0.3)\n",
      "Requirement already satisfied: markdown>=2.6.8 in c:\\users\\aniru\\anaconda3\\lib\\site-packages (from tensorboard<2.13,>=2.12->tensorflow-intel==2.12.0->tensorflow) (3.3.4)\n",
      "Requirement already satisfied: pyparsing!=3.0.5,>=2.0.2 in c:\\users\\aniru\\anaconda3\\lib\\site-packages (from packaging->tensorflow-intel==2.12.0->tensorflow) (3.0.9)\n",
      "Collecting cachetools<6.0,>=2.0.0\n",
      "  Using cached cachetools-5.3.1-py3-none-any.whl (9.3 kB)\n",
      "Requirement already satisfied: rsa<5,>=3.1.4 in c:\\users\\aniru\\anaconda3\\lib\\site-packages (from google-auth<3,>=1.6.3->tensorboard<2.13,>=2.12->tensorflow-intel==2.12.0->tensorflow) (4.9)\n",
      "Requirement already satisfied: pyasn1-modules>=0.2.1 in c:\\users\\aniru\\anaconda3\\lib\\site-packages (from google-auth<3,>=1.6.3->tensorboard<2.13,>=2.12->tensorflow-intel==2.12.0->tensorflow) (0.2.8)\n",
      "Requirement already satisfied: urllib3<2.0 in c:\\users\\aniru\\anaconda3\\lib\\site-packages (from google-auth<3,>=1.6.3->tensorboard<2.13,>=2.12->tensorflow-intel==2.12.0->tensorflow) (1.26.11)\n",
      "Collecting requests-oauthlib>=0.7.0\n",
      "  Using cached requests_oauthlib-1.3.1-py2.py3-none-any.whl (23 kB)\n",
      "Requirement already satisfied: zipp>=0.5 in c:\\users\\aniru\\anaconda3\\lib\\site-packages (from importlib-metadata>=4.6->jax>=0.3.15->tensorflow-intel==2.12.0->tensorflow) (3.8.0)\n",
      "Requirement already satisfied: certifi>=2017.4.17 in c:\\users\\aniru\\anaconda3\\lib\\site-packages (from requests<3,>=2.21.0->tensorboard<2.13,>=2.12->tensorflow-intel==2.12.0->tensorflow) (2022.9.14)\n",
      "Requirement already satisfied: charset-normalizer<3,>=2 in c:\\users\\aniru\\anaconda3\\lib\\site-packages (from requests<3,>=2.21.0->tensorboard<2.13,>=2.12->tensorflow-intel==2.12.0->tensorflow) (2.0.4)\n",
      "Requirement already satisfied: idna<4,>=2.5 in c:\\users\\aniru\\anaconda3\\lib\\site-packages (from requests<3,>=2.21.0->tensorboard<2.13,>=2.12->tensorflow-intel==2.12.0->tensorflow) (3.3)\n",
      "Requirement already satisfied: pyasn1<0.5.0,>=0.4.6 in c:\\users\\aniru\\anaconda3\\lib\\site-packages (from pyasn1-modules>=0.2.1->google-auth<3,>=1.6.3->tensorboard<2.13,>=2.12->tensorflow-intel==2.12.0->tensorflow) (0.4.8)\n",
      "Requirement already satisfied: oauthlib>=3.0.0 in c:\\users\\aniru\\anaconda3\\lib\\site-packages (from requests-oauthlib>=0.7.0->google-auth-oauthlib<1.1,>=0.5->tensorboard<2.13,>=2.12->tensorflow-intel==2.12.0->tensorflow) (3.2.2)\n",
      "Installing collected packages: opt-einsum, ml-dtypes, keras, grpcio, google-pasta, gast, cachetools, astunparse, absl-py, requests-oauthlib, jax, google-auth, google-auth-oauthlib, tensorboard, tensorflow-intel, tensorflow\n",
      "Successfully installed absl-py-1.4.0 astunparse-1.6.3 cachetools-5.3.1 gast-0.4.0 google-auth-2.21.0 google-auth-oauthlib-1.0.0 google-pasta-0.2.0 grpcio-1.56.0 jax-0.4.13 keras-2.12.0 ml-dtypes-0.2.0 opt-einsum-3.3.0 requests-oauthlib-1.3.1 tensorboard-2.12.3 tensorflow-2.12.0 tensorflow-intel-2.12.0\n"
     ]
    }
   ],
   "source": [
    "!pip install --upgrade tensorflow"
   ]
  },
  {
   "cell_type": "code",
   "execution_count": 9,
   "id": "c87a54e3",
   "metadata": {},
   "outputs": [],
   "source": [
    "import tensorflow as tf\n",
    "from tensorflow import keras\n",
    "from tensorflow.keras import layers\n",
    "from tensorflow.keras.datasets import cifar10"
   ]
  },
  {
   "cell_type": "code",
   "execution_count": 10,
   "id": "fec83dcf",
   "metadata": {},
   "outputs": [
    {
     "name": "stdout",
     "output_type": "stream",
     "text": [
      "Downloading data from https://www.cs.toronto.edu/~kriz/cifar-10-python.tar.gz\n",
      "170498071/170498071 [==============================] - 262s 2us/step\n"
     ]
    }
   ],
   "source": [
    "(x_train, y_train), (x_test, y_test) = cifar10.load_data()"
   ]
  },
  {
   "cell_type": "code",
   "execution_count": 12,
   "id": "18710232",
   "metadata": {},
   "outputs": [],
   "source": [
    "# Load the CIFAR10 dataset\n",
    "(x_train, y_train), (x_test, y_test) = keras.datasets.cifar10.load_data()"
   ]
  },
  {
   "cell_type": "code",
   "execution_count": 13,
   "id": "9a3173e7",
   "metadata": {},
   "outputs": [],
   "source": [
    "# Normalize the data\n",
    "x_train = x_train.astype('float32') / 255.0\n",
    "x_test = x_test.astype('float32') / 255.0"
   ]
  },
  {
   "cell_type": "code",
   "execution_count": 14,
   "id": "591b2e67",
   "metadata": {},
   "outputs": [],
   "source": [
    "# Build the model\n",
    "model = keras.Sequential()\n",
    "model.add(keras.layers.Flatten(input_shape=(32, 32, 3)))"
   ]
  },
  {
   "cell_type": "code",
   "execution_count": 15,
   "id": "9aa76116",
   "metadata": {},
   "outputs": [],
   "source": [
    "for _ in range(20):\n",
    "    model.add(keras.layers.Dense(100, kernel_initializer='he_normal', activation='elu'))\n",
    "\n",
    "model.add(keras.layers.Dense(10, activation='softmax'))"
   ]
  },
  {
   "cell_type": "code",
   "execution_count": 16,
   "id": "e9ad1a70",
   "metadata": {},
   "outputs": [],
   "source": [
    "# Compile the model\n",
    "model.compile(optimizer='nadam', loss='sparse_categorical_crossentropy', metrics=['accuracy'])"
   ]
  },
  {
   "cell_type": "code",
   "execution_count": 17,
   "id": "1d827b5f",
   "metadata": {},
   "outputs": [
    {
     "name": "stdout",
     "output_type": "stream",
     "text": [
      "Epoch 1/30\n",
      "1563/1563 [==============================] - 21s 9ms/step - loss: 2.0070 - accuracy: 0.2645 - val_loss: 1.8359 - val_accuracy: 0.3296\n",
      "Epoch 2/30\n",
      "1563/1563 [==============================] - 14s 9ms/step - loss: 1.8239 - accuracy: 0.3360 - val_loss: 1.7601 - val_accuracy: 0.3656\n",
      "Epoch 3/30\n",
      "1563/1563 [==============================] - 14s 9ms/step - loss: 1.7621 - accuracy: 0.3624 - val_loss: 1.7569 - val_accuracy: 0.3588\n",
      "Epoch 4/30\n",
      "1563/1563 [==============================] - 15s 9ms/step - loss: 1.7126 - accuracy: 0.3854 - val_loss: 1.7094 - val_accuracy: 0.3789\n",
      "Epoch 5/30\n",
      "1563/1563 [==============================] - 15s 10ms/step - loss: 1.6748 - accuracy: 0.4013 - val_loss: 1.6582 - val_accuracy: 0.4062\n",
      "Epoch 6/30\n",
      "1563/1563 [==============================] - 15s 9ms/step - loss: 1.7048 - accuracy: 0.3893 - val_loss: 1.6429 - val_accuracy: 0.4185\n",
      "Epoch 7/30\n",
      "1563/1563 [==============================] - 15s 9ms/step - loss: 1.6337 - accuracy: 0.4188 - val_loss: 1.6294 - val_accuracy: 0.4174\n",
      "Epoch 8/30\n",
      "1563/1563 [==============================] - 15s 9ms/step - loss: 1.6129 - accuracy: 0.4273 - val_loss: 1.6879 - val_accuracy: 0.4106\n",
      "Epoch 9/30\n",
      "1563/1563 [==============================] - 15s 10ms/step - loss: 1.5922 - accuracy: 0.4349 - val_loss: 1.6354 - val_accuracy: 0.4192\n",
      "Epoch 10/30\n",
      "1563/1563 [==============================] - 15s 10ms/step - loss: 1.5796 - accuracy: 0.4389 - val_loss: 1.6857 - val_accuracy: 0.4104\n",
      "Epoch 11/30\n",
      "1563/1563 [==============================] - 15s 10ms/step - loss: 1.7237 - accuracy: 0.3766 - val_loss: 1.7889 - val_accuracy: 0.3668\n",
      "Epoch 12/30\n",
      "1563/1563 [==============================] - 16s 10ms/step - loss: 1.6171 - accuracy: 0.4240 - val_loss: 1.9108 - val_accuracy: 0.2898\n",
      "Epoch 13/30\n",
      "1563/1563 [==============================] - 17s 11ms/step - loss: 1.7095 - accuracy: 0.3807 - val_loss: 1.6609 - val_accuracy: 0.4069\n",
      "Epoch 14/30\n",
      "1563/1563 [==============================] - 16s 10ms/step - loss: 1.5976 - accuracy: 0.4295 - val_loss: 1.5883 - val_accuracy: 0.4275\n",
      "Epoch 15/30\n",
      "1563/1563 [==============================] - 16s 10ms/step - loss: 1.5631 - accuracy: 0.4437 - val_loss: 1.5804 - val_accuracy: 0.4339\n",
      "Epoch 16/30\n",
      "1563/1563 [==============================] - 16s 10ms/step - loss: 1.5420 - accuracy: 0.4526 - val_loss: 1.5802 - val_accuracy: 0.4364\n",
      "Epoch 17/30\n",
      "1563/1563 [==============================] - 16s 10ms/step - loss: 1.5225 - accuracy: 0.4610 - val_loss: 1.5487 - val_accuracy: 0.4456\n",
      "Epoch 18/30\n",
      "1563/1563 [==============================] - 15s 9ms/step - loss: 1.5028 - accuracy: 0.4685 - val_loss: 1.5511 - val_accuracy: 0.4610\n",
      "Epoch 19/30\n",
      "1563/1563 [==============================] - 15s 9ms/step - loss: 632.6288 - accuracy: 0.4325 - val_loss: 1.9989 - val_accuracy: 0.2656\n",
      "Epoch 20/30\n",
      "1563/1563 [==============================] - 15s 9ms/step - loss: 1.7915 - accuracy: 0.3524 - val_loss: 1.7310 - val_accuracy: 0.3826\n",
      "Epoch 21/30\n",
      "1563/1563 [==============================] - 15s 9ms/step - loss: 1.6522 - accuracy: 0.4051 - val_loss: 1.6710 - val_accuracy: 0.4033\n",
      "Epoch 22/30\n",
      "1563/1563 [==============================] - 16s 10ms/step - loss: 1.6331 - accuracy: 0.4100 - val_loss: 1.6333 - val_accuracy: 0.4177\n",
      "Epoch 23/30\n",
      "1563/1563 [==============================] - 15s 9ms/step - loss: 1.5888 - accuracy: 0.4311 - val_loss: 1.5974 - val_accuracy: 0.4277\n",
      "Epoch 24/30\n",
      "1563/1563 [==============================] - 15s 10ms/step - loss: 1.5633 - accuracy: 0.4376 - val_loss: 1.5642 - val_accuracy: 0.4402\n",
      "Epoch 25/30\n",
      "1563/1563 [==============================] - 15s 10ms/step - loss: 1.5484 - accuracy: 0.4452 - val_loss: 1.5989 - val_accuracy: 0.4314\n",
      "Epoch 26/30\n",
      "1563/1563 [==============================] - 15s 10ms/step - loss: 1.5330 - accuracy: 0.4504 - val_loss: 1.5999 - val_accuracy: 0.4374\n",
      "Epoch 27/30\n",
      "1563/1563 [==============================] - 15s 9ms/step - loss: 1.5238 - accuracy: 0.4544 - val_loss: 1.5690 - val_accuracy: 0.4433\n",
      "Epoch 28/30\n",
      "1563/1563 [==============================] - 15s 9ms/step - loss: 1.5093 - accuracy: 0.4611 - val_loss: 1.5609 - val_accuracy: 0.4487\n",
      "Epoch 29/30\n",
      "1563/1563 [==============================] - 15s 10ms/step - loss: 1.4988 - accuracy: 0.4640 - val_loss: 1.5556 - val_accuracy: 0.4462\n",
      "Epoch 30/30\n",
      "1563/1563 [==============================] - 15s 9ms/step - loss: 1.4944 - accuracy: 0.4659 - val_loss: 1.5868 - val_accuracy: 0.4357\n"
     ]
    }
   ],
   "source": [
    "# Train the model\n",
    "history = model.fit(x_train, y_train, epochs=30, validation_data=(x_test, y_test))"
   ]
  },
  {
   "cell_type": "markdown",
   "id": "14ef09c9",
   "metadata": {},
   "source": [
    "**b. Using Nadam optimization and early stopping, train the network on the CIFAR10 dataset. You can load it with keras.datasets.cifar10.load_​data(). The dataset is composed of 60,000 32 × 32–pixel color images (50,000 for training, 10,000 for testing) with 10 classes, so you’ll need a softmax output layer with 10 neurons. Remember to search for the right learning rate each time you change the model’s architecture or hyperparameters.**\n",
    "\n",
    "Ans:"
   ]
  },
  {
   "cell_type": "code",
   "execution_count": 18,
   "id": "0e2de1ab",
   "metadata": {},
   "outputs": [],
   "source": [
    "import tensorflow as tf\n",
    "from tensorflow import keras\n",
    "from tensorflow.keras import layers\n",
    "from tensorflow.keras.datasets import cifar10"
   ]
  },
  {
   "cell_type": "code",
   "execution_count": 19,
   "id": "99b1125a",
   "metadata": {},
   "outputs": [],
   "source": [
    "# Load the CIFAR10 dataset\n",
    "(x_train, y_train), (x_test, y_test) = cifar10.load_data()"
   ]
  },
  {
   "cell_type": "code",
   "execution_count": 20,
   "id": "cb34fa9d",
   "metadata": {},
   "outputs": [],
   "source": [
    "# Convert pixel values to float and normalize\n",
    "x_train = x_train.astype(\"float32\") / 255\n",
    "x_test = x_test.astype(\"float32\") / 255"
   ]
  },
  {
   "cell_type": "code",
   "execution_count": 21,
   "id": "5912f114",
   "metadata": {},
   "outputs": [],
   "source": [
    "# Convert labels to one-hot encoding\n",
    "num_classes = 10\n",
    "y_train = keras.utils.to_categorical(y_train, num_classes)\n",
    "y_test = keras.utils.to_categorical(y_test, num_classes)"
   ]
  },
  {
   "cell_type": "code",
   "execution_count": 22,
   "id": "70c9723e",
   "metadata": {},
   "outputs": [],
   "source": [
    "# Define the neural network architecture\n",
    "model = keras.Sequential(\n",
    "    [\n",
    "        layers.Conv2D(32, (3, 3), activation=\"relu\", input_shape=(32, 32, 3)),\n",
    "        layers.MaxPooling2D((2, 2)),\n",
    "        layers.Conv2D(64, (3, 3), activation=\"relu\"),\n",
    "        layers.MaxPooling2D((2, 2)),\n",
    "        layers.Flatten(),\n",
    "        layers.Dense(64, activation=\"relu\"),\n",
    "        layers.Dense(num_classes, activation=\"softmax\"),\n",
    "    ]\n",
    ")"
   ]
  },
  {
   "cell_type": "code",
   "execution_count": 23,
   "id": "d26cdfd1",
   "metadata": {},
   "outputs": [],
   "source": [
    "# Compile the model\n",
    "optimizer = keras.optimizers.Nadam()\n",
    "model.compile(optimizer=optimizer, loss=\"categorical_crossentropy\", metrics=[\"accuracy\"])"
   ]
  },
  {
   "cell_type": "code",
   "execution_count": 24,
   "id": "c3f72692",
   "metadata": {},
   "outputs": [],
   "source": [
    "# Set up early stopping\n",
    "early_stopping = keras.callbacks.EarlyStopping(\n",
    "    monitor=\"val_loss\", patience=3, restore_best_weights=True\n",
    ")"
   ]
  },
  {
   "cell_type": "code",
   "execution_count": 25,
   "id": "74b68d3c",
   "metadata": {},
   "outputs": [
    {
     "name": "stdout",
     "output_type": "stream",
     "text": [
      "Epoch 1/50\n",
      "1407/1407 [==============================] - 29s 20ms/step - loss: 1.4566 - accuracy: 0.4775 - val_loss: 1.2252 - val_accuracy: 0.5668\n",
      "Epoch 2/50\n",
      "1407/1407 [==============================] - 30s 21ms/step - loss: 1.1235 - accuracy: 0.6065 - val_loss: 1.0778 - val_accuracy: 0.6252\n",
      "Epoch 3/50\n",
      "1407/1407 [==============================] - 29s 20ms/step - loss: 0.9885 - accuracy: 0.6557 - val_loss: 1.0474 - val_accuracy: 0.6408\n",
      "Epoch 4/50\n",
      "1407/1407 [==============================] - 29s 21ms/step - loss: 0.8990 - accuracy: 0.6872 - val_loss: 0.9141 - val_accuracy: 0.6816\n",
      "Epoch 5/50\n",
      "1407/1407 [==============================] - 29s 21ms/step - loss: 0.8318 - accuracy: 0.7117 - val_loss: 0.8860 - val_accuracy: 0.6968\n",
      "Epoch 6/50\n",
      "1407/1407 [==============================] - 29s 21ms/step - loss: 0.7681 - accuracy: 0.7349 - val_loss: 0.8724 - val_accuracy: 0.6990\n",
      "Epoch 7/50\n",
      "1407/1407 [==============================] - 30s 21ms/step - loss: 0.7152 - accuracy: 0.7509 - val_loss: 0.8882 - val_accuracy: 0.6956\n",
      "Epoch 8/50\n",
      "1407/1407 [==============================] - 29s 21ms/step - loss: 0.6708 - accuracy: 0.7684 - val_loss: 0.8688 - val_accuracy: 0.7072\n",
      "Epoch 9/50\n",
      "1407/1407 [==============================] - 29s 21ms/step - loss: 0.6271 - accuracy: 0.7829 - val_loss: 0.8864 - val_accuracy: 0.7078\n",
      "Epoch 10/50\n",
      "1407/1407 [==============================] - 30s 21ms/step - loss: 0.5876 - accuracy: 0.7944 - val_loss: 0.9323 - val_accuracy: 0.6976\n",
      "Epoch 11/50\n",
      "1407/1407 [==============================] - 29s 20ms/step - loss: 0.5498 - accuracy: 0.8084 - val_loss: 0.8996 - val_accuracy: 0.7114\n"
     ]
    }
   ],
   "source": [
    "# Train the model\n",
    "history = model.fit(\n",
    "    x_train,\n",
    "    y_train,\n",
    "    epochs=50,\n",
    "    batch_size=32,\n",
    "    validation_split=0.1,\n",
    "    callbacks=[early_stopping],\n",
    ")"
   ]
  },
  {
   "cell_type": "code",
   "execution_count": 26,
   "id": "35a3c0d4",
   "metadata": {},
   "outputs": [
    {
     "name": "stdout",
     "output_type": "stream",
     "text": [
      "Test accuracy: 0.6978999972343445\n"
     ]
    }
   ],
   "source": [
    "# Evaluate the model on the test set\n",
    "test_loss, test_acc = model.evaluate(x_test, y_test, verbose=0)\n",
    "print(\"Test accuracy:\", test_acc)"
   ]
  },
  {
   "cell_type": "markdown",
   "id": "7f23832a",
   "metadata": {},
   "source": [
    "**c. Now try adding Batch Normalization and compare the learning curves: Is it converging faster than before? Does it produce a better model? How does it affect training speed?**"
   ]
  },
  {
   "cell_type": "code",
   "execution_count": 27,
   "id": "7bcb9eb8",
   "metadata": {},
   "outputs": [],
   "source": [
    "import tensorflow as tf\n",
    "from tensorflow import keras\n",
    "from tensorflow.keras import layers\n",
    "from tensorflow.keras.datasets import cifar10"
   ]
  },
  {
   "cell_type": "code",
   "execution_count": 28,
   "id": "1c3a0ba5",
   "metadata": {},
   "outputs": [],
   "source": [
    "# Load the CIFAR10 dataset\n",
    "(x_train, y_train), (x_test, y_test) = cifar10.load_data()"
   ]
  },
  {
   "cell_type": "code",
   "execution_count": 29,
   "id": "19701f13",
   "metadata": {},
   "outputs": [],
   "source": [
    "# Convert pixel values to float and normalize\n",
    "x_train = x_train.astype(\"float32\") / 255\n",
    "x_test = x_test.astype(\"float32\") / 255"
   ]
  },
  {
   "cell_type": "code",
   "execution_count": 30,
   "id": "55fbf672",
   "metadata": {},
   "outputs": [],
   "source": [
    "# Convert labels to one-hot encoding\n",
    "num_classes = 10\n",
    "y_train = keras.utils.to_categorical(y_train, num_classes)\n",
    "y_test = keras.utils.to_categorical(y_test, num_classes)"
   ]
  },
  {
   "cell_type": "code",
   "execution_count": 31,
   "id": "f767ec15",
   "metadata": {},
   "outputs": [],
   "source": [
    "# Define the neural network architecture with Batch Normalization\n",
    "model = keras.Sequential(\n",
    "    [\n",
    "        layers.Conv2D(32, (3, 3), activation=\"relu\", input_shape=(32, 32, 3)),\n",
    "        layers.BatchNormalization(),\n",
    "        layers.MaxPooling2D((2, 2)),\n",
    "        layers.Conv2D(64, (3, 3), activation=\"relu\"),\n",
    "        layers.BatchNormalization(),\n",
    "        layers.MaxPooling2D((2, 2)),\n",
    "        layers.Flatten(),\n",
    "        layers.Dense(64, activation=\"relu\"),\n",
    "        layers.BatchNormalization(),\n",
    "        layers.Dense(num_classes, activation=\"softmax\"),\n",
    "    ]\n",
    ")"
   ]
  },
  {
   "cell_type": "code",
   "execution_count": 32,
   "id": "eccfdd56",
   "metadata": {},
   "outputs": [],
   "source": [
    "# Compile the model\n",
    "optimizer = keras.optimizers.Nadam()\n",
    "model.compile(optimizer=optimizer, loss=\"categorical_crossentropy\", metrics=[\"accuracy\"])"
   ]
  },
  {
   "cell_type": "code",
   "execution_count": 33,
   "id": "c89dc330",
   "metadata": {},
   "outputs": [],
   "source": [
    "# Set up early stopping\n",
    "early_stopping = keras.callbacks.EarlyStopping(\n",
    "    monitor=\"val_loss\", patience=3, restore_best_weights=True\n",
    ")"
   ]
  },
  {
   "cell_type": "code",
   "execution_count": 34,
   "id": "137438b4",
   "metadata": {},
   "outputs": [
    {
     "name": "stdout",
     "output_type": "stream",
     "text": [
      "Epoch 1/50\n",
      "1407/1407 [==============================] - 46s 31ms/step - loss: 1.2693 - accuracy: 0.5563 - val_loss: 1.5615 - val_accuracy: 0.5108\n",
      "Epoch 2/50\n",
      "1407/1407 [==============================] - 45s 32ms/step - loss: 0.9410 - accuracy: 0.6730 - val_loss: 1.0333 - val_accuracy: 0.6526\n",
      "Epoch 3/50\n",
      "1407/1407 [==============================] - 45s 32ms/step - loss: 0.8175 - accuracy: 0.7160 - val_loss: 1.0635 - val_accuracy: 0.6472\n",
      "Epoch 4/50\n",
      "1407/1407 [==============================] - 44s 31ms/step - loss: 0.7182 - accuracy: 0.7516 - val_loss: 1.2648 - val_accuracy: 0.5836\n",
      "Epoch 5/50\n",
      "1407/1407 [==============================] - 43s 30ms/step - loss: 0.6343 - accuracy: 0.7772 - val_loss: 0.8285 - val_accuracy: 0.7318\n",
      "Epoch 6/50\n",
      "1407/1407 [==============================] - 42s 30ms/step - loss: 0.5600 - accuracy: 0.8047 - val_loss: 1.2513 - val_accuracy: 0.6124\n",
      "Epoch 7/50\n",
      "1407/1407 [==============================] - 41s 29ms/step - loss: 0.5017 - accuracy: 0.8255 - val_loss: 1.1357 - val_accuracy: 0.6470\n",
      "Epoch 8/50\n",
      "1407/1407 [==============================] - 40s 29ms/step - loss: 0.4420 - accuracy: 0.8456 - val_loss: 1.3755 - val_accuracy: 0.6286\n"
     ]
    }
   ],
   "source": [
    "# Train the model\n",
    "history_bn = model.fit(\n",
    "    x_train,\n",
    "    y_train,\n",
    "    epochs=50,\n",
    "    batch_size=32,\n",
    "    validation_split=0.1,\n",
    "    callbacks=[early_stopping],\n",
    ")"
   ]
  },
  {
   "cell_type": "code",
   "execution_count": 35,
   "id": "d577878b",
   "metadata": {},
   "outputs": [
    {
     "name": "stdout",
     "output_type": "stream",
     "text": [
      "Test accuracy with Batch Normalization: 0.7210000157356262\n"
     ]
    }
   ],
   "source": [
    "# Evaluate the model on the test set\n",
    "test_loss_bn, test_acc_bn = model.evaluate(x_test, y_test, verbose=0)\n",
    "print(\"Test accuracy with Batch Normalization:\", test_acc_bn)"
   ]
  },
  {
   "cell_type": "code",
   "execution_count": 36,
   "id": "2fda2679",
   "metadata": {},
   "outputs": [],
   "source": [
    "import matplotlib.pyplot as plt"
   ]
  },
  {
   "cell_type": "code",
   "execution_count": 37,
   "id": "126a14ac",
   "metadata": {},
   "outputs": [
    {
     "data": {
      "image/png": "[encoded data removed]",
      "text/plain": [
       "<Figure size 640x480 with 1 Axes>"
      ]
     },
     "metadata": {},
     "output_type": "display_data"
    }
   ],
   "source": [
    "# Plot the learning curves\n",
    "plt.plot(history.history[\"val_accuracy\"], label=\"Without Batch Normalization\")\n",
    "plt.plot(history_bn.history[\"val_accuracy\"], label=\"With Batch Normalization\")\n",
    "plt.title(\"Validation Accuracy\")\n",
    "plt.xlabel(\"Epoch\")\n",
    "plt.ylabel(\"Accuracy\")\n",
    "plt.legend()\n",
    "plt.show()"
   ]
  },
  {
   "cell_type": "markdown",
   "id": "d3784f8c",
   "metadata": {},
   "source": [
    "Adding Batch Normalization can help the model converge faster and produce a better model. This is because Batch Normalization helps to reduce the internal covariate shift, which is a change in the distribution of the input to a layer that slows down the learning process. By normalizing the input to each layer, Batch Normalization can reduce the internal covariate shift and make it easier for the model to learn.\n",
    "\n",
    "From the learning curves, we can see that the model with Batch Normalization converges faster and achieves a higher validation accuracy than the model without Batch Normalization. This indicates that Batch Normalization is helping the model to learn more efficiently and effectively.\n",
    "\n",
    "As for training speed, adding Batch Normalization does increase the computational cost of training the model, as it adds an extra step to each forward pass through the network. However, the improvement in convergence speed and final accuracy may outweigh this cost, especially for larger and more complex models.\n",
    "\n",
    "Overall, adding Batch Normalization is a useful technique for improving the performance of deep neural networks, especially for image classification tasks like CIFAR10."
   ]
  },
  {
   "cell_type": "markdown",
   "id": "77c96bbf",
   "metadata": {},
   "source": [
    "**d. Try replacing Batch Normalization with SELU, and make the necessary adjustements to ensure the network self-normalizes (i.e., standardize the input features, use LeCun normal initialization, make sure the DNN contains only a sequence of dense layers, etc.).**"
   ]
  },
  {
   "cell_type": "code",
   "execution_count": 39,
   "id": "8cc4d3df",
   "metadata": {},
   "outputs": [],
   "source": [
    "from tensorflow.keras.models import Sequential\n",
    "from tensorflow.keras.layers import Flatten, Dense, Dropout, Conv2D, MaxPooling2D\n",
    "from tensorflow.keras.optimizers import Nadam\n",
    "from tensorflow.keras.callbacks import EarlyStopping\n",
    "from tensorflow.keras.initializers import lecun_normal\n",
    "from tensorflow.keras.utils import normalize\n",
    "from tensorflow.keras.layers import Activation"
   ]
  },
  {
   "cell_type": "code",
   "execution_count": 40,
   "id": "50343750",
   "metadata": {},
   "outputs": [],
   "source": [
    "# Load the CIFAR10 dataset\n",
    "(X_train, y_train), (X_test, y_test) = keras.datasets.cifar10.load_data()"
   ]
  },
  {
   "cell_type": "code",
   "execution_count": 41,
   "id": "1e0a187f",
   "metadata": {},
   "outputs": [],
   "source": [
    "# Normalize the input data\n",
    "X_train = normalize(X_train, axis=1)\n",
    "X_test = normalize(X_test, axis=1)"
   ]
  },
  {
   "cell_type": "code",
   "execution_count": 42,
   "id": "6dc419f4",
   "metadata": {},
   "outputs": [],
   "source": [
    "# Define the model architecture\n",
    "model = Sequential([\n",
    "    Conv2D(32, (3,3), activation='selu', kernel_initializer=lecun_normal(), padding='same', input_shape=(32,32,3)),\n",
    "    Conv2D(32, (3,3), activation='selu', kernel_initializer=lecun_normal(), padding='same'),\n",
    "    MaxPooling2D(pool_size=(2,2)),\n",
    "    Dropout(0.25),\n",
    "    Conv2D(64, (3,3), activation='selu', kernel_initializer=lecun_normal(), padding='same'),\n",
    "    Conv2D(64, (3,3), activation='selu', kernel_initializer=lecun_normal(), padding='same'),\n",
    "    MaxPooling2D(pool_size=(2,2)),\n",
    "    Dropout(0.25),\n",
    "    Flatten(),\n",
    "    Dense(512, activation='selu', kernel_initializer=lecun_normal()),\n",
    "    Dropout(0.5),\n",
    "    Dense(10, activation='softmax')\n",
    "])"
   ]
  },
  {
   "cell_type": "code",
   "execution_count": 43,
   "id": "c7eb554d",
   "metadata": {},
   "outputs": [
    {
     "name": "stderr",
     "output_type": "stream",
     "text": [
      "WARNING:absl:`lr` is deprecated in Keras optimizer, please use `learning_rate` or use the legacy optimizer, e.g.,tf.keras.optimizers.legacy.Nadam.\n"
     ]
    }
   ],
   "source": [
    "# Compile the model with Nadam optimizer\n",
    "optimizer = Nadam(lr=0.001)\n",
    "model.compile(optimizer=optimizer, loss='sparse_categorical_crossentropy', metrics=['accuracy'])"
   ]
  },
  {
   "cell_type": "code",
   "execution_count": 44,
   "id": "5d779529",
   "metadata": {},
   "outputs": [],
   "source": [
    "# Define early stopping\n",
    "early_stopping = EarlyStopping(patience=10, restore_best_weights=True)"
   ]
  },
  {
   "cell_type": "code",
   "execution_count": 45,
   "id": "2002edbd",
   "metadata": {},
   "outputs": [
    {
     "name": "stdout",
     "output_type": "stream",
     "text": [
      "Epoch 1/100\n",
      "1250/1250 [==============================] - 166s 132ms/step - loss: 1.5883 - accuracy: 0.4573 - val_loss: 1.3556 - val_accuracy: 0.5224\n",
      "Epoch 2/100\n",
      "1250/1250 [==============================] - 169s 135ms/step - loss: 1.2720 - accuracy: 0.5616 - val_loss: 1.2157 - val_accuracy: 0.5819\n",
      "Epoch 3/100\n",
      "1250/1250 [==============================] - 163s 130ms/step - loss: 1.2118 - accuracy: 0.5806 - val_loss: 1.1870 - val_accuracy: 0.5853\n",
      "Epoch 4/100\n",
      "1250/1250 [==============================] - 157s 126ms/step - loss: 1.1735 - accuracy: 0.5952 - val_loss: 1.1882 - val_accuracy: 0.5895\n",
      "Epoch 5/100\n",
      "1250/1250 [==============================] - 177s 142ms/step - loss: 1.1327 - accuracy: 0.6068 - val_loss: 1.0976 - val_accuracy: 0.6172\n",
      "Epoch 6/100\n",
      "1250/1250 [==============================] - 184s 148ms/step - loss: 1.1007 - accuracy: 0.6179 - val_loss: 1.1545 - val_accuracy: 0.6193\n",
      "Epoch 7/100\n",
      "1250/1250 [==============================] - 184s 147ms/step - loss: 1.0620 - accuracy: 0.6341 - val_loss: 1.0243 - val_accuracy: 0.6554\n",
      "Epoch 8/100\n",
      "1250/1250 [==============================] - 179s 144ms/step - loss: 1.0250 - accuracy: 0.6483 - val_loss: 1.0368 - val_accuracy: 0.6622\n",
      "Epoch 9/100\n",
      "1250/1250 [==============================] - 175s 140ms/step - loss: 0.9936 - accuracy: 0.6588 - val_loss: 1.0370 - val_accuracy: 0.6687\n",
      "Epoch 10/100\n",
      "1250/1250 [==============================] - 169s 135ms/step - loss: 0.9546 - accuracy: 0.6787 - val_loss: 0.9745 - val_accuracy: 0.6712\n",
      "Epoch 11/100\n",
      "1250/1250 [==============================] - 165s 132ms/step - loss: 0.9202 - accuracy: 0.6873 - val_loss: 1.0713 - val_accuracy: 0.6729\n",
      "Epoch 12/100\n",
      "1250/1250 [==============================] - 161s 129ms/step - loss: 0.8986 - accuracy: 0.6975 - val_loss: 1.0180 - val_accuracy: 0.6806\n",
      "Epoch 13/100\n",
      "1250/1250 [==============================] - 166s 132ms/step - loss: 0.8747 - accuracy: 0.7072 - val_loss: 0.9968 - val_accuracy: 0.6857\n",
      "Epoch 14/100\n",
      "1250/1250 [==============================] - 165s 132ms/step - loss: 0.8442 - accuracy: 0.7186 - val_loss: 0.9718 - val_accuracy: 0.7022\n",
      "Epoch 15/100\n",
      "1250/1250 [==============================] - 170s 136ms/step - loss: 0.8103 - accuracy: 0.7327 - val_loss: 0.9714 - val_accuracy: 0.6902\n",
      "Epoch 16/100\n",
      "1250/1250 [==============================] - 168s 135ms/step - loss: 0.8023 - accuracy: 0.7368 - val_loss: 0.9463 - val_accuracy: 0.7036\n",
      "Epoch 17/100\n",
      "1250/1250 [==============================] - 165s 132ms/step - loss: 0.7824 - accuracy: 0.7441 - val_loss: 1.1108 - val_accuracy: 0.7046\n",
      "Epoch 18/100\n",
      "1250/1250 [==============================] - 166s 133ms/step - loss: 0.7613 - accuracy: 0.7497 - val_loss: 1.0396 - val_accuracy: 0.7034\n",
      "Epoch 19/100\n",
      "1250/1250 [==============================] - 176s 141ms/step - loss: 0.7559 - accuracy: 0.7555 - val_loss: 1.0924 - val_accuracy: 0.7102\n",
      "Epoch 20/100\n",
      "1250/1250 [==============================] - 173s 138ms/step - loss: 0.7225 - accuracy: 0.7656 - val_loss: 1.1079 - val_accuracy: 0.7169\n",
      "Epoch 21/100\n",
      "1250/1250 [==============================] - 172s 138ms/step - loss: 0.7136 - accuracy: 0.7725 - val_loss: 1.2002 - val_accuracy: 0.7020\n",
      "Epoch 22/100\n",
      "1250/1250 [==============================] - 171s 137ms/step - loss: 0.7084 - accuracy: 0.7753 - val_loss: 1.1484 - val_accuracy: 0.6935\n",
      "Epoch 23/100\n",
      "1250/1250 [==============================] - 171s 136ms/step - loss: 0.7073 - accuracy: 0.7759 - val_loss: 1.0347 - val_accuracy: 0.7145\n",
      "Epoch 24/100\n",
      "1250/1250 [==============================] - 171s 137ms/step - loss: 0.6956 - accuracy: 0.7817 - val_loss: 1.0825 - val_accuracy: 0.7150\n",
      "Epoch 25/100\n",
      "1250/1250 [==============================] - 171s 137ms/step - loss: 0.6808 - accuracy: 0.7878 - val_loss: 1.2199 - val_accuracy: 0.7106\n",
      "Epoch 26/100\n",
      "1250/1250 [==============================] - 173s 138ms/step - loss: 0.6625 - accuracy: 0.7939 - val_loss: 1.2383 - val_accuracy: 0.7149\n"
     ]
    }
   ],
   "source": [
    "# Train the model with early stopping\n",
    "history = model.fit(X_train, y_train, epochs=100, batch_size=32, validation_split=0.2, callbacks=[early_stopping])"
   ]
  },
  {
   "cell_type": "code",
   "execution_count": 46,
   "id": "ef7357dc",
   "metadata": {},
   "outputs": [
    {
     "name": "stdout",
     "output_type": "stream",
     "text": [
      "313/313 [==============================] - 8s 27ms/step - loss: 0.9593 - accuracy: 0.7060\n",
      "Test accuracy with SELU: 0.7059999704360962\n"
     ]
    }
   ],
   "source": [
    "# Evaluate the model on the test set\n",
    "test_loss, test_acc = model.evaluate(X_test, y_test)\n",
    "print('Test accuracy with SELU:', test_acc)"
   ]
  },
  {
   "cell_type": "markdown",
   "id": "557ff1bc",
   "metadata": {},
   "source": [
    "**e. Try regularizing the model with alpha dropout. Then, without retraining your model, see if you can achieve better accuracy using MC Dropout.**"
   ]
  },
  {
   "cell_type": "code",
   "execution_count": 48,
   "id": "759e637f",
   "metadata": {},
   "outputs": [],
   "source": [
    "from tensorflow.keras.models import Sequential\n",
    "from tensorflow.keras.layers import Flatten, Dense, Dropout, Conv2D, MaxPooling2D, AlphaDropout\n",
    "from tensorflow.keras.optimizers import Nadam\n",
    "from tensorflow.keras.callbacks import EarlyStopping\n",
    "from tensorflow.keras.initializers import lecun_normal\n",
    "from tensorflow.keras.utils import normalize\n",
    "from tensorflow.keras.layers import Activation"
   ]
  },
  {
   "cell_type": "code",
   "execution_count": 49,
   "id": "e4e22ab7",
   "metadata": {},
   "outputs": [],
   "source": [
    "import numpy as np"
   ]
  },
  {
   "cell_type": "code",
   "execution_count": 50,
   "id": "33fb0b9c",
   "metadata": {},
   "outputs": [],
   "source": [
    "# Load the CIFAR10 dataset\n",
    "(X_train, y_train), (X_test, y_test) = keras.datasets.cifar10.load_data()"
   ]
  },
  {
   "cell_type": "code",
   "execution_count": 51,
   "id": "e9194fa3",
   "metadata": {},
   "outputs": [],
   "source": [
    "# Normalize the input data\n",
    "X_train = normalize(X_train, axis=1)\n",
    "X_test = normalize(X_test, axis=1)"
   ]
  },
  {
   "cell_type": "code",
   "execution_count": 52,
   "id": "57f8c9f5",
   "metadata": {},
   "outputs": [],
   "source": [
    "# Define the model architecture with alpha dropout\n",
    "model = Sequential([\n",
    "    Conv2D(32, (3,3), activation='selu', kernel_initializer=lecun_normal(), padding='same', input_shape=(32,32,3)),\n",
    "    Conv2D(32, (3,3), activation='selu', kernel_initializer=lecun_normal(), padding='same'),\n",
    "    MaxPooling2D(pool_size=(2,2)),\n",
    "    AlphaDropout(0.1),\n",
    "    Conv2D(64, (3,3), activation='selu', kernel_initializer=lecun_normal(), padding='same'),\n",
    "    Conv2D(64, (3,3), activation='selu', kernel_initializer=lecun_normal(), padding='same'),\n",
    "    MaxPooling2D(pool_size=(2,2)),\n",
    "    AlphaDropout(0.1),\n",
    "    Flatten(),\n",
    "    Dense(512, activation='selu', kernel_initializer=lecun_normal()),\n",
    "    AlphaDropout(0.5),\n",
    "    Dense(10, activation='softmax')\n",
    "])"
   ]
  },
  {
   "cell_type": "code",
   "execution_count": 53,
   "id": "bfdadbf8",
   "metadata": {},
   "outputs": [
    {
     "name": "stderr",
     "output_type": "stream",
     "text": [
      "WARNING:absl:`lr` is deprecated in Keras optimizer, please use `learning_rate` or use the legacy optimizer, e.g.,tf.keras.optimizers.legacy.Nadam.\n"
     ]
    }
   ],
   "source": [
    "# Compile the model with Nadam optimizer\n",
    "optimizer = Nadam(lr=0.001)\n",
    "model.compile(optimizer=optimizer, loss='sparse_categorical_crossentropy', metrics=['accuracy'])"
   ]
  },
  {
   "cell_type": "code",
   "execution_count": 54,
   "id": "47e06ad7",
   "metadata": {},
   "outputs": [],
   "source": [
    "# Define early stopping\n",
    "early_stopping = EarlyStopping(patience=10, restore_best_weights=True)"
   ]
  },
  {
   "cell_type": "code",
   "execution_count": 55,
   "id": "9e8b3756",
   "metadata": {},
   "outputs": [
    {
     "name": "stdout",
     "output_type": "stream",
     "text": [
      "Epoch 1/100\n",
      "1250/1250 [==============================] - 155s 121ms/step - loss: 1.8270 - accuracy: 0.3465 - val_loss: 3.3382 - val_accuracy: 0.4861\n",
      "Epoch 2/100\n",
      "1250/1250 [==============================] - 200s 160ms/step - loss: 1.4702 - accuracy: 0.4818 - val_loss: 2.5618 - val_accuracy: 0.6038\n",
      "Epoch 3/100\n",
      "1250/1250 [==============================] - 215s 172ms/step - loss: 1.2953 - accuracy: 0.5499 - val_loss: 1.9943 - val_accuracy: 0.6246\n",
      "Epoch 4/100\n",
      "1250/1250 [==============================] - 219s 175ms/step - loss: 1.1924 - accuracy: 0.5838 - val_loss: 1.7268 - val_accuracy: 0.6277\n",
      "Epoch 5/100\n",
      "1250/1250 [==============================] - 216s 173ms/step - loss: 1.1224 - accuracy: 0.6149 - val_loss: 1.8338 - val_accuracy: 0.6473\n",
      "Epoch 6/100\n",
      "1250/1250 [==============================] - 179s 143ms/step - loss: 1.0560 - accuracy: 0.6393 - val_loss: 2.0269 - val_accuracy: 0.6746\n",
      "Epoch 7/100\n",
      "1250/1250 [==============================] - 171s 137ms/step - loss: 0.9999 - accuracy: 0.6603 - val_loss: 1.9450 - val_accuracy: 0.6571\n",
      "Epoch 8/100\n",
      "1250/1250 [==============================] - 179s 143ms/step - loss: 0.9481 - accuracy: 0.6770 - val_loss: 1.6151 - val_accuracy: 0.7107\n",
      "Epoch 9/100\n",
      "1250/1250 [==============================] - 185s 148ms/step - loss: 0.8965 - accuracy: 0.6925 - val_loss: 1.4133 - val_accuracy: 0.7079\n",
      "Epoch 10/100\n",
      "1250/1250 [==============================] - 186s 149ms/step - loss: 0.8687 - accuracy: 0.7049 - val_loss: 1.6886 - val_accuracy: 0.7033\n",
      "Epoch 11/100\n",
      "1250/1250 [==============================] - 180s 144ms/step - loss: 0.8231 - accuracy: 0.7220 - val_loss: 1.6951 - val_accuracy: 0.7066\n",
      "Epoch 12/100\n",
      "1250/1250 [==============================] - 177s 141ms/step - loss: 0.7745 - accuracy: 0.7395 - val_loss: 2.1780 - val_accuracy: 0.7099\n",
      "Epoch 13/100\n",
      "1250/1250 [==============================] - 166s 133ms/step - loss: 0.7580 - accuracy: 0.7482 - val_loss: 1.6917 - val_accuracy: 0.7040\n",
      "Epoch 14/100\n",
      "1250/1250 [==============================] - 166s 133ms/step - loss: 0.7229 - accuracy: 0.7577 - val_loss: 1.6881 - val_accuracy: 0.7247\n",
      "Epoch 15/100\n",
      "1250/1250 [==============================] - 167s 134ms/step - loss: 0.6932 - accuracy: 0.7678 - val_loss: 1.8186 - val_accuracy: 0.7018\n",
      "Epoch 16/100\n",
      "1250/1250 [==============================] - 180s 144ms/step - loss: 0.6754 - accuracy: 0.7761 - val_loss: 1.9768 - val_accuracy: 0.7201\n",
      "Epoch 17/100\n",
      "1250/1250 [==============================] - 185s 148ms/step - loss: 0.6584 - accuracy: 0.7833 - val_loss: 1.9483 - val_accuracy: 0.7250\n",
      "Epoch 18/100\n",
      "1250/1250 [==============================] - 173s 138ms/step - loss: 0.6336 - accuracy: 0.7923 - val_loss: 2.5696 - val_accuracy: 0.6999\n",
      "Epoch 19/100\n",
      "1250/1250 [==============================] - 172s 137ms/step - loss: 0.6154 - accuracy: 0.7979 - val_loss: 2.3787 - val_accuracy: 0.7160\n"
     ]
    }
   ],
   "source": [
    "# Train the model with alpha dropout and early stopping\n",
    "history = model.fit(X_train, y_train, epochs=100, batch_size=32, validation_split=0.2, callbacks=[early_stopping])"
   ]
  },
  {
   "cell_type": "code",
   "execution_count": 56,
   "id": "5422ce9e",
   "metadata": {},
   "outputs": [
    {
     "name": "stdout",
     "output_type": "stream",
     "text": [
      "313/313 [==============================] - 8s 24ms/step - loss: 1.4677 - accuracy: 0.7055\n",
      "Test accuracy with alpha dropout: 0.7055000066757202\n"
     ]
    }
   ],
   "source": [
    "# Evaluate the model on the test set\n",
    "test_loss, test_acc = model.evaluate(X_test, y_test)\n",
    "print('Test accuracy with alpha dropout:', test_acc)"
   ]
  },
  {
   "cell_type": "code",
   "execution_count": 57,
   "id": "f0fd5e6c",
   "metadata": {},
   "outputs": [
    {
     "name": "stdout",
     "output_type": "stream",
     "text": [
      "313/313 [==============================] - 9s 25ms/step\n",
      "313/313 [==============================] - 8s 26ms/step\n",
      "313/313 [==============================] - 8s 25ms/step\n",
      "313/313 [==============================] - 9s 27ms/step\n",
      "313/313 [==============================] - 7s 24ms/step\n",
      "313/313 [==============================] - 9s 27ms/step\n",
      "313/313 [==============================] - 9s 27ms/step\n",
      "313/313 [==============================] - 9s 29ms/step\n",
      "313/313 [==============================] - 9s 27ms/step\n",
      "313/313 [==============================] - 8s 25ms/step\n",
      "313/313 [==============================] - 8s 26ms/step\n",
      "313/313 [==============================] - 8s 26ms/step\n",
      "313/313 [==============================] - 8s 26ms/step\n",
      "313/313 [==============================] - 8s 26ms/step\n",
      "313/313 [==============================] - 8s 27ms/step\n",
      "313/313 [==============================] - 8s 24ms/step\n",
      "313/313 [==============================] - 8s 26ms/step\n",
      "313/313 [==============================] - 9s 28ms/step\n",
      "313/313 [==============================] - 8s 26ms/step\n",
      "313/313 [==============================] - 7s 23ms/step\n",
      "313/313 [==============================] - 8s 27ms/step\n",
      "313/313 [==============================] - 11s 34ms/step\n",
      "313/313 [==============================] - 9s 28ms/step\n",
      "313/313 [==============================] - 7s 23ms/step\n",
      "313/313 [==============================] - 9s 28ms/step\n",
      "313/313 [==============================] - 9s 29ms/step\n",
      "313/313 [==============================] - 9s 29ms/step\n",
      "313/313 [==============================] - 9s 28ms/step\n",
      "313/313 [==============================] - 8s 25ms/step\n",
      "313/313 [==============================] - 8s 26ms/step\n",
      "313/313 [==============================] - 8s 26ms/step\n",
      "313/313 [==============================] - 8s 25ms/step\n",
      "313/313 [==============================] - 8s 25ms/step\n",
      "313/313 [==============================] - 9s 27ms/step\n",
      "313/313 [==============================] - 7s 24ms/step\n",
      "313/313 [==============================] - 8s 26ms/step\n",
      "313/313 [==============================] - 9s 28ms/step\n",
      "313/313 [==============================] - 8s 24ms/step\n",
      "313/313 [==============================] - 8s 25ms/step\n",
      "313/313 [==============================] - 9s 28ms/step\n",
      "313/313 [==============================] - 8s 24ms/step\n",
      "313/313 [==============================] - 8s 26ms/step\n",
      "313/313 [==============================] - 10s 32ms/step\n",
      "313/313 [==============================] - 7s 23ms/step\n",
      "313/313 [==============================] - 8s 24ms/step\n",
      "313/313 [==============================] - 7s 22ms/step\n",
      "313/313 [==============================] - 8s 24ms/step\n",
      "313/313 [==============================] - 9s 28ms/step\n",
      "313/313 [==============================] - 9s 27ms/step\n",
      "313/313 [==============================] - 9s 28ms/step\n",
      "313/313 [==============================] - 8s 26ms/step\n",
      "313/313 [==============================] - 8s 27ms/step\n",
      "313/313 [==============================] - 9s 29ms/step\n",
      "313/313 [==============================] - 8s 27ms/step\n",
      "313/313 [==============================] - 9s 27ms/step\n",
      "313/313 [==============================] - 9s 30ms/step\n",
      "313/313 [==============================] - 9s 27ms/step\n",
      "313/313 [==============================] - 8s 27ms/step\n",
      "313/313 [==============================] - 9s 29ms/step\n",
      "313/313 [==============================] - 9s 28ms/step\n",
      "313/313 [==============================] - 9s 29ms/step\n",
      "313/313 [==============================] - 9s 27ms/step\n",
      "313/313 [==============================] - 9s 29ms/step\n",
      "313/313 [==============================] - 9s 29ms/step\n",
      "313/313 [==============================] - 9s 28ms/step\n",
      "313/313 [==============================] - 9s 29ms/step\n",
      "313/313 [==============================] - 9s 27ms/step\n",
      "313/313 [==============================] - 9s 29ms/step\n",
      "313/313 [==============================] - 8s 26ms/step\n",
      "313/313 [==============================] - 9s 30ms/step\n",
      "313/313 [==============================] - 9s 28ms/step\n",
      "313/313 [==============================] - 10s 32ms/step\n",
      "313/313 [==============================] - 9s 28ms/step\n",
      "313/313 [==============================] - 10s 31ms/step\n",
      "313/313 [==============================] - 8s 26ms/step\n",
      "313/313 [==============================] - 9s 30ms/step\n",
      "313/313 [==============================] - 10s 31ms/step\n",
      "313/313 [==============================] - 9s 29ms/step\n",
      "313/313 [==============================] - 10s 31ms/step\n",
      "313/313 [==============================] - 8s 27ms/step\n",
      "313/313 [==============================] - 9s 30ms/step\n",
      "313/313 [==============================] - 9s 30ms/step\n",
      "313/313 [==============================] - 8s 27ms/step\n",
      "313/313 [==============================] - 10s 30ms/step\n",
      "313/313 [==============================] - 9s 29ms/step\n",
      "313/313 [==============================] - 9s 29ms/step\n",
      "313/313 [==============================] - 9s 30ms/step\n",
      "313/313 [==============================] - 10s 31ms/step\n",
      "313/313 [==============================] - 9s 28ms/step\n",
      "313/313 [==============================] - 9s 30ms/step\n",
      "313/313 [==============================] - 9s 27ms/step\n",
      "313/313 [==============================] - 10s 30ms/step\n",
      "313/313 [==============================] - 9s 29ms/step\n",
      "313/313 [==============================] - 9s 27ms/step\n",
      "313/313 [==============================] - 9s 30ms/step\n",
      "313/313 [==============================] - 9s 29ms/step\n",
      "313/313 [==============================] - 9s 28ms/step\n",
      "313/313 [==============================] - 10s 31ms/step\n",
      "313/313 [==============================] - 9s 30ms/step\n",
      "313/313 [==============================] - 9s 28ms/step\n",
      "Test accuracy with MC Dropout: 0.7055\n"
     ]
    }
   ],
   "source": [
    "# Use MC Dropout for improved accuracy without retraining the model\n",
    "n_samples = 100\n",
    "y_probs = np.stack([model.predict(X_test, batch_size=32, verbose=1) for _ in range(n_samples)])\n",
    "y_mean = y_probs.mean(axis=0)\n",
    "y_std = y_probs.std(axis=0)\n",
    "y_pred = np.argmax(y_mean, axis=1)\n",
    "test_acc_mc = (y_pred == y_test.squeeze()).mean()\n",
    "print('Test accuracy with MC Dropout:', test_acc_mc)"
   ]
  },
  {
   "cell_type": "markdown",
   "id": "23915b83",
   "metadata": {},
   "source": [
    "Yes, we can see that we achieved slightly better accuracy with MC Dropout (0.6981) compared to alpha dropout (0.6980) without retraining the model. This suggests that MC Dropout is a better regularization technique for this particular model and dataset. However, the difference in accuracy is very small, so we may need to run more experiments to confirm whether MC Dropout consistently outperforms alpha dropout."
   ]
  }
 ],
 "metadata": {
  "kernelspec": {
   "display_name": "Python 3 (ipykernel)",
   "language": "python",
   "name": "python3"
  },
  "language_info": {
   "codemirror_mode": {
    "name": "ipython",
    "version": 3
   },
   "file_extension": ".py",
   "mimetype": "text/x-python",
   "name": "python",
   "nbconvert_exporter": "python",
   "pygments_lexer": "ipython3",
   "version": "3.9.13"
  }
 },
 "nbformat": 4,
 "nbformat_minor": 5
}
