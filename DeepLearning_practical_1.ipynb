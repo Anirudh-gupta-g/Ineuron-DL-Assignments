{
 "cells": [
  {
   "cell_type": "markdown",
   "id": "7b26d399",
   "metadata": {},
   "source": [
    "**Objective: - Predict Next Sequence To start with deep learning, the very basic project that you can build is to predict the next digit in a sequence.**\n",
    "\n",
    "**Dataset: - Create a sequence like a list of odd numbers and then build a model and train it to predict the next digit in the sequence.**\n",
    "\n",
    "**Task: - A simple neural network with 2 layers would be sufficient to build the model.**"
   ]
  },
  {
   "cell_type": "code",
   "execution_count": 1,
   "id": "fca657bc",
   "metadata": {},
   "outputs": [],
   "source": [
    "import numpy as np\n",
    "from tensorflow import keras\n",
    "from tensorflow.keras.models import Sequential\n",
    "from tensorflow.keras.layers import Dense"
   ]
  },
  {
   "cell_type": "code",
   "execution_count": 2,
   "id": "56a35fa0",
   "metadata": {},
   "outputs": [],
   "source": [
    "# Create a sequence of odd numbers\n",
    "data = np.array([1, 3, 5, 7, 9, 11, 13, 15])"
   ]
  },
  {
   "cell_type": "code",
   "execution_count": 3,
   "id": "ad5b7a25",
   "metadata": {},
   "outputs": [],
   "source": [
    "# Split the data into input (X) and output (y) variables\n",
    "X = data[:-1]\n",
    "y = data[1:]"
   ]
  },
  {
   "cell_type": "code",
   "execution_count": 4,
   "id": "6cb25f74",
   "metadata": {},
   "outputs": [],
   "source": [
    "# Define the model\n",
    "model = Sequential()\n",
    "model.add(Dense(2, input_dim=1))\n",
    "model.add(Dense(1))\n",
    "model.compile(loss='mean_squared_error', optimizer='adam')"
   ]
  },
  {
   "cell_type": "code",
   "execution_count": 5,
   "id": "bb235633",
   "metadata": {},
   "outputs": [
    {
     "data": {
      "text/plain": [
       "<keras.callbacks.History at 0x2c5b2381160>"
      ]
     },
     "execution_count": 5,
     "metadata": {},
     "output_type": "execute_result"
    }
   ],
   "source": [
    "# Fit the model to the data\n",
    "model.fit(X, y, epochs=2000, verbose=0)"
   ]
  },
  {
   "cell_type": "code",
   "execution_count": 6,
   "id": "5b5a2102",
   "metadata": {},
   "outputs": [
    {
     "name": "stdout",
     "output_type": "stream",
     "text": [
      "1/1 [==============================] - 0s 176ms/step\n",
      "Predicted: 19.494186\n"
     ]
    }
   ],
   "source": [
    "# Make a prediction for the next digit in the sequence\n",
    "x_input = np.array([17])\n",
    "x_input = x_input.reshape((1, 1))\n",
    "yhat = model.predict(x_input)\n",
    "print('Predicted:', yhat[0][0])"
   ]
  }
 ],
 "metadata": {
  "kernelspec": {
   "display_name": "Python 3 (ipykernel)",
   "language": "python",
   "name": "python3"
  },
  "language_info": {
   "codemirror_mode": {
    "name": "ipython",
    "version": 3
   },
   "file_extension": ".py",
   "mimetype": "text/x-python",
   "name": "python",
   "nbconvert_exporter": "python",
   "pygments_lexer": "ipython3",
   "version": "3.9.13"
  }
 },
 "nbformat": 4,
 "nbformat_minor": 5
}
